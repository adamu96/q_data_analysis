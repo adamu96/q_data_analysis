{
 "cells": [
  {
   "cell_type": "code",
   "execution_count": 1,
   "metadata": {},
   "outputs": [
    {
     "name": "stdout",
     "output_type": "stream",
     "text": [
      "2023-06-22 14:13:57,175 INFO sqlalchemy.engine.Engine SELECT DATABASE()\n",
      "2023-06-22 14:13:57,176 INFO sqlalchemy.engine.Engine [raw sql] {}\n",
      "2023-06-22 14:13:57,180 INFO sqlalchemy.engine.Engine SELECT @@sql_mode\n",
      "2023-06-22 14:13:57,185 INFO sqlalchemy.engine.Engine [raw sql] {}\n",
      "2023-06-22 14:13:57,193 INFO sqlalchemy.engine.Engine SELECT @@lower_case_table_names\n",
      "2023-06-22 14:13:57,196 INFO sqlalchemy.engine.Engine [raw sql] {}\n"
     ]
    }
   ],
   "source": [
    "import sqlalchemy\n",
    "import pandas as pd\n",
    "import matplotlib.pyplot as plt\n",
    "import seaborn as sns\n",
    "\n",
    "database = 'qardio'\n",
    "host = '127.0.0.1'\n",
    "user = 'root'\n",
    "password = 'Party100'\n",
    "url = f'mysql+mysqlconnector://{user}:{password}@{host}/{database}'\n",
    "engine = sqlalchemy.create_engine(url, echo=True)\n",
    "conn = engine.connect()"
   ]
  },
  {
   "cell_type": "code",
   "execution_count": null,
   "metadata": {},
   "outputs": [],
   "source": [
    "# query database\n",
    "existing_data = pd.read_sql(sql='SELECT * FROM day_email_rev;', con=conn)"
   ]
  }
 ],
 "metadata": {
  "kernelspec": {
   "display_name": "venv",
   "language": "python",
   "name": "python3"
  },
  "language_info": {
   "codemirror_mode": {
    "name": "ipython",
    "version": 3
   },
   "file_extension": ".py",
   "mimetype": "text/x-python",
   "name": "python",
   "nbconvert_exporter": "python",
   "pygments_lexer": "ipython3",
   "version": "3.11.1"
  },
  "orig_nbformat": 4
 },
 "nbformat": 4,
 "nbformat_minor": 2
}
