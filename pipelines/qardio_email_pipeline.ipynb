{
 "cells": [
  {
   "attachments": {},
   "cell_type": "markdown",
   "metadata": {},
   "source": [
    "# Email Data Pipeline"
   ]
  },
  {
   "attachments": {},
   "cell_type": "markdown",
   "metadata": {},
   "source": [
    "This notebook extracts data from qardio google sheets, cleans the data, and loads it into the Qardio SQL database"
   ]
  },
  {
   "cell_type": "code",
   "execution_count": 1,
   "metadata": {},
   "outputs": [
    {
     "name": "stdout",
     "output_type": "stream",
     "text": [
      "2023-06-22 08:23:52,454 INFO sqlalchemy.engine.Engine SELECT DATABASE()\n",
      "2023-06-22 08:23:52,455 INFO sqlalchemy.engine.Engine [raw sql] {}\n",
      "2023-06-22 08:23:52,458 INFO sqlalchemy.engine.Engine SELECT @@sql_mode\n",
      "2023-06-22 08:23:52,459 INFO sqlalchemy.engine.Engine [raw sql] {}\n",
      "2023-06-22 08:23:52,461 INFO sqlalchemy.engine.Engine SELECT @@lower_case_table_names\n",
      "2023-06-22 08:23:52,462 INFO sqlalchemy.engine.Engine [raw sql] {}\n"
     ]
    }
   ],
   "source": [
    "from google_apis import gsheets_functions as gs\n",
    "import pandas as pd\n",
    "import sqlalchemy\n",
    "\n",
    "database = 'qardio'\n",
    "host = '127.0.0.1'\n",
    "user = 'root'\n",
    "password = 'Party100'\n",
    "url = f'mysql+mysqlconnector://{user}:{password}@{host}/{database}'\n",
    "engine = sqlalchemy.create_engine(url, echo=True)\n",
    "conn = engine.connect()"
   ]
  },
  {
   "cell_type": "code",
   "execution_count": 2,
   "metadata": {},
   "outputs": [],
   "source": [
    "qardio_data = gs.gspread_read(wb='1dKiIp2ETyzfKHzR9fMeHrgf2N_UKcSa5uPWathJzgIw',\n",
    "                              ws='22_+_23')"
   ]
  },
  {
   "attachments": {},
   "cell_type": "markdown",
   "metadata": {},
   "source": [
    "Clean column headers"
   ]
  },
  {
   "cell_type": "code",
   "execution_count": 3,
   "metadata": {},
   "outputs": [],
   "source": [
    "qardio_data.columns = qardio_data.columns.str.strip()\n",
    "qardio_data.columns = qardio_data.columns.str.lower()\n",
    "qardio_data.columns = qardio_data.columns.str.replace(' ', '_')\n",
    "qardio_data.columns = qardio_data.columns.str.replace('.', '')"
   ]
  },
  {
   "attachments": {},
   "cell_type": "markdown",
   "metadata": {},
   "source": [
    "Solve dtypes"
   ]
  },
  {
   "cell_type": "code",
   "execution_count": 4,
   "metadata": {},
   "outputs": [
    {
     "data": {
      "text/plain": [
       "Index(['campaign_name', 'year', 'date_sent', 'day', 'time_pst', 'subject_line',\n",
       "       'subscribers', 'country', 'recipients', 'opens', 'open_rate', 'clicks',\n",
       "       'click_rate', 'true_click_rate', 'click_per_unique_opens', 'unsubs',\n",
       "       '%_unsubs', '%_unsubs_openers', 'bounced', 'sessions',\n",
       "       'sess_per_unique_opens', 'ecr', 'total_trans', 'revenue', 'aov',\n",
       "       'qardioarm', 'qardiobase_2', 'qardiobase_x', 'qardiotemp', 'qardiospo2',\n",
       "       'qa_case', 'qa+qbx_bundle', 'qa+qb_bundle', 'qa+spo2', 'qtemp+spo2',\n",
       "       'ultimate_bundle', 'qardio_core', 'total_quantity'],\n",
       "      dtype='object')"
      ]
     },
     "execution_count": 4,
     "metadata": {},
     "output_type": "execute_result"
    }
   ],
   "source": [
    "qardio_data.columns"
   ]
  },
  {
   "cell_type": "code",
   "execution_count": 5,
   "metadata": {},
   "outputs": [
    {
     "data": {
      "text/plain": [
       "campaign_name                     object\n",
       "year                               int64\n",
       "date_sent                 datetime64[ns]\n",
       "day                               object\n",
       "time_pst                          object\n",
       "subject_line                      object\n",
       "subscribers                       object\n",
       "country                           object\n",
       "recipients                         int64\n",
       "opens                              int64\n",
       "open_rate                         object\n",
       "clicks                           float64\n",
       "click_rate                        object\n",
       "true_click_rate                   object\n",
       "click_per_unique_opens            object\n",
       "unsubs                             int64\n",
       "%_unsubs                          object\n",
       "%_unsubs_openers                  object\n",
       "bounced                            int64\n",
       "sessions                          object\n",
       "sess_per_unique_opens             object\n",
       "ecr                               object\n",
       "total_trans                       object\n",
       "revenue                           object\n",
       "aov                               object\n",
       "qardioarm                         object\n",
       "qardiobase_2                      object\n",
       "qardiobase_x                      object\n",
       "qardiotemp                        object\n",
       "qardiospo2                        object\n",
       "qa_case                           object\n",
       "qa+qbx_bundle                     object\n",
       "qa+qb_bundle                      object\n",
       "qa+spo2                           object\n",
       "qtemp+spo2                        object\n",
       "ultimate_bundle                   object\n",
       "qardio_core                       object\n",
       "total_quantity                    object\n",
       "dtype: object"
      ]
     },
     "execution_count": 5,
     "metadata": {},
     "output_type": "execute_result"
    }
   ],
   "source": [
    "qardio_data = qardio_data.replace('#DIV/0!', 0)\n",
    "qardio_data = qardio_data.replace('%', '')\n",
    "qardio_data.date_sent = pd.to_datetime(qardio_data.date_sent)\n",
    "# qardio_data.open_rate = qardio_data.open_rate.astype('float')\n",
    "qardio_data.clicks = pd.to_numeric(qardio_data.clicks, errors='coerce', downcast='integer')\n",
    "\n",
    "qardio_data.dtypes"
   ]
  },
  {
   "cell_type": "code",
   "execution_count": 6,
   "metadata": {},
   "outputs": [
    {
     "data": {
      "text/plain": [
       "array(['0.29%', '0.23%', '0.11%', '0.15%', '0.42%', '0.14%', '0.28%',\n",
       "       '1.36%', '1.15%', '1.42%', '0.20%', '0.45%', '0.26%', '0.47%',\n",
       "       '1.38%', '0.94%', '0.63%', '0.31%', '0.24%', '1.06%', '0.40%',\n",
       "       '2.45%', '1.85%', '1.81%', '0.52%', '1.24%', '0.56%', '2.76%',\n",
       "       '0.50%', '0.22%', '0.16%', '1.19%', '0.77%', '1.82%', '0.25%',\n",
       "       '0.57%', '1.22%', '0.82%', '0.44%', '0.18%', '0.17%', '0.53%',\n",
       "       '1.88%', '1.13%', '1.55%', '0.73%', '0.69%', '1.66%', '0.43%',\n",
       "       '0.34%', '0.21%', '0.19%', '0.85%', '0.30%', '1.31%', '0.93%',\n",
       "       '1.37%', '0.37%', '1.26%', '0.61%', '0.36%', '0.12%', '0.55%',\n",
       "       '1.03%', '1.28%', '0.49%', '0.33%', '0.39%', '0.41%', '0.13%',\n",
       "       '1.08%', '0.35%', '1.00%', '0.27%', '1.12%', '2.34%', '1.60%',\n",
       "       '2.13%', '1.21%', '2.55%', '0.75%', '1.25%', '1.30%', '3.49%',\n",
       "       '3.05%', '0.65%', '1.65%', '1.86%', '0.87%', '1.76%', '1.11%',\n",
       "       '2.16%', '2.26%', '2.21%', '0.32%', '0.66%', '0.62%', '0.98%',\n",
       "       '1.44%', '1.80%', '0.58%', '0.38%', '1.68%', '1.67%', '0.46%',\n",
       "       '0.76%', '0.60%', '1.14%', '2.73%', '2.28%', '2.58%', '0.83%',\n",
       "       '0.10%', '1.50%', '0.68%', '1.05%', '2.02%', '1.35%', '1.39%',\n",
       "       '0.09%', '0.91%', '1.09%', '0.67%', '1.83%', '0.92%', '0.08%',\n",
       "       '1.58%', '2.01%', '0.79%', '1.79%', '0.72%', '0.96%', '2.30%',\n",
       "       '1.33%', '1.07%', '1.54%', '1.75%', '2.08%', '0.99%', '0.70%',\n",
       "       '1.34%', '2.11%', '1.59%', '0.84%', '0.78%', '2.22%', '0.89%',\n",
       "       '5.97%', '1.48%', '0.64%', '1.62%', '2.79%', '1.95%', '0.80%',\n",
       "       '2.68%', '0.59%', '2.60%', '2.43%', '5.21%', '6.96%', '0.74%',\n",
       "       '2.99%', '2.41%', '6.60%', '2.84%', '1.49%', '3.12%', '3.58%',\n",
       "       '0.48%', '1.70%', '1.96%', '3.33%', '4.00%', '5.28%', '3.25%',\n",
       "       '3.08%', '1.23%', '6.83%', '2.71%', '3.03%', '2.51%', '8.90%',\n",
       "       '8.05%', '4.37%', '3.76%', '23.40%', '3.57%', '0.81%', '5.64%',\n",
       "       '3.45%', '3.59%', '6.09%', '11.11%', '3.87%', '5.75%', '1.27%',\n",
       "       '3.70%', '5.65%', '7.63%', '0.00%', '1.78%', '7.16%', '2.52%',\n",
       "       '2.47%', '5.13%', '1.01%', '9.91%', '2.98%', '1.10%', '3.39%',\n",
       "       '7.14%', '1.61%', '2.75%', '7.18%', '0.71%', '5.32%', '2.46%',\n",
       "       '5.58%', '3.43%', '4.21%', '2.39%', '3.78%', '4.31%', '2.62%',\n",
       "       '0.54%', '1.77%', '3.40%', '6.50%', '1.56%', '4.84%', '2.89%',\n",
       "       '6.88%', '5.05%', '3.84%', '7.68%', '5.60%', '3.64%', '3.90%',\n",
       "       '4.39%', '0.86%', '3.16%', '2.06%', '2.24%', '2.29%', '4.35%',\n",
       "       '4.10%', '2.72%', '6.72%', '3.30%', '2.04%', '23.64%', '1.20%',\n",
       "       '1.02%', '2.36%', '1.87%', '1.93%', '1.64%', '1.43%', '1.47%',\n",
       "       '1.17%', '2.81%', '6.29%', '2.48%', '2.31%', '9.06%', '19.63%',\n",
       "       '1.98%', '3.32%', '7.05%', '1.72%', '3.47%', '3.02%', '5.41%',\n",
       "       '6.98%', '1.92%', '4.54%', '3.55%', '2.17%', '6.35%', '3.09%',\n",
       "       '1.71%', '3.42%', '3.65%', '1.94%', '2.80%', '7.62%', '4.15%',\n",
       "       '4.99%', '2.92%', '18.25%', '6.80%', '2.97%', '4.26%', '4.38%',\n",
       "       '2.94%', '1.91%', '2.05%', '2.00%', '1.41%', '1.16%', '1.46%',\n",
       "       '1.29%', '0.51%', '2.35%', '5.01%', '5.20%', '3.61%', '2.74%',\n",
       "       '5.11%', '4.43%', '2.63%', '3.29%', '5.68%', '0.88%', '10.22%',\n",
       "       '2.57%', '3.91%', '1.40%', '1.53%', '2.19%', '1.51%', '0.90%',\n",
       "       '5.56%', '1.04%', '7.84%', '1.45%', '4.17%', '17.65%', '4.04%',\n",
       "       '2.20%', '10.61%', '2.14%', '3.82%', '1.74%', 0, '2.12%', '1.97%',\n",
       "       '1.99%', '2.27%', '2.95%', '1.57%', '1.84%', '3.99%', '4.19%',\n",
       "       '0.95%', '3.62%', '4.55%', '6.13%', '5.30%', '4.08%', '3.66%',\n",
       "       '3.07%', '7.09%', '2.78%', '1.18%', '3.37%', '3.79%', '3.21%',\n",
       "       '1.90%', '5.44%', '5.18%', '3.28%', '2.15%', '2.33%', '3.10%',\n",
       "       '2.18%', '2.44%', '5.52%', '2.23%', '2.42%', '3.27%', '0.97%'],\n",
       "      dtype=object)"
      ]
     },
     "execution_count": 6,
     "metadata": {},
     "output_type": "execute_result"
    }
   ],
   "source": [
    "qardio_data.click_rate.unique()"
   ]
  },
  {
   "attachments": {},
   "cell_type": "markdown",
   "metadata": {},
   "source": [
    "## Save data to SQL database"
   ]
  },
  {
   "cell_type": "code",
   "execution_count": 7,
   "metadata": {},
   "outputs": [
    {
     "name": "stdout",
     "output_type": "stream",
     "text": [
      "2023-06-22 08:23:55,361 INFO sqlalchemy.engine.Engine BEGIN (implicit)\n",
      "2023-06-22 08:23:55,373 INFO sqlalchemy.engine.Engine SELECT COUNT(*) FROM information_schema.tables WHERE table_schema = %(table_schema)s AND table_name = %(table_name)s\n",
      "2023-06-22 08:23:55,375 INFO sqlalchemy.engine.Engine [generated in 0.00304s] {'table_schema': 'qardio', 'table_name': 'email_data'}\n",
      "2023-06-22 08:23:55,379 INFO sqlalchemy.engine.Engine SELECT COUNT(*) FROM information_schema.tables WHERE table_schema = %(table_schema)s AND table_name = %(table_name)s\n",
      "2023-06-22 08:23:55,380 INFO sqlalchemy.engine.Engine [cached since 0.007673s ago] {'table_schema': 'qardio', 'table_name': 'email_data'}\n",
      "2023-06-22 08:23:55,383 INFO sqlalchemy.engine.Engine SHOW FULL TABLES FROM `qardio`\n",
      "2023-06-22 08:23:55,383 INFO sqlalchemy.engine.Engine [raw sql] {}\n",
      "2023-06-22 08:23:55,402 INFO sqlalchemy.engine.Engine SHOW CREATE TABLE `email_data`\n",
      "2023-06-22 08:23:55,403 INFO sqlalchemy.engine.Engine [raw sql] {}\n",
      "2023-06-22 08:23:55,412 INFO sqlalchemy.engine.Engine \n",
      "DROP TABLE email_data\n",
      "2023-06-22 08:23:55,413 INFO sqlalchemy.engine.Engine [no key 0.00158s] {}\n"
     ]
    }
   ],
   "source": [
    "qardio_data.to_sql(name='email_data',\n",
    "          con=conn,\n",
    "          if_exists='replace')"
   ]
  },
  {
   "cell_type": "code",
   "execution_count": null,
   "metadata": {},
   "outputs": [],
   "source": []
  }
 ],
 "metadata": {
  "kernelspec": {
   "display_name": "venv",
   "language": "python",
   "name": "python3"
  },
  "language_info": {
   "codemirror_mode": {
    "name": "ipython",
    "version": 3
   },
   "file_extension": ".py",
   "mimetype": "text/x-python",
   "name": "python",
   "nbconvert_exporter": "python",
   "pygments_lexer": "ipython3",
   "version": "3.11.1"
  },
  "orig_nbformat": 4
 },
 "nbformat": 4,
 "nbformat_minor": 2
}
