{
 "cells": [
  {
   "attachments": {},
   "cell_type": "markdown",
   "metadata": {},
   "source": [
    "# Email Data Pipeline"
   ]
  },
  {
   "attachments": {},
   "cell_type": "markdown",
   "metadata": {},
   "source": [
    "This notebook extracts data from qardio google sheets, cleans the data, and loads it into the Qardio SQL database"
   ]
  },
  {
   "cell_type": "code",
   "execution_count": 1,
   "metadata": {},
   "outputs": [
    {
     "name": "stdout",
     "output_type": "stream",
     "text": [
      "2023-06-22 12:56:20,175 INFO sqlalchemy.engine.Engine SELECT DATABASE()\n",
      "2023-06-22 12:56:20,176 INFO sqlalchemy.engine.Engine [raw sql] {}\n",
      "2023-06-22 12:56:20,178 INFO sqlalchemy.engine.Engine SELECT @@sql_mode\n",
      "2023-06-22 12:56:20,179 INFO sqlalchemy.engine.Engine [raw sql] {}\n",
      "2023-06-22 12:56:20,180 INFO sqlalchemy.engine.Engine SELECT @@lower_case_table_names\n",
      "2023-06-22 12:56:20,181 INFO sqlalchemy.engine.Engine [raw sql] {}\n"
     ]
    }
   ],
   "source": [
    "from google_apis import gsheets_functions as gs\n",
    "import pandas as pd\n",
    "import sqlalchemy\n",
    "\n",
    "database = 'qardio'\n",
    "host = '127.0.0.1'\n",
    "user = 'root'\n",
    "password = 'Party100'\n",
    "url = f'mysql+mysqlconnector://{user}:{password}@{host}/{database}'\n",
    "engine = sqlalchemy.create_engine(url, echo=True)\n",
    "conn = engine.connect()\n",
    "\n",
    "pd.set_option('display.max_columns', 500)"
   ]
  },
  {
   "cell_type": "code",
   "execution_count": 2,
   "metadata": {},
   "outputs": [],
   "source": [
    "qardio_data = gs.gspread_read(wb='1dKiIp2ETyzfKHzR9fMeHrgf2N_UKcSa5uPWathJzgIw',\n",
    "                              ws='22_+_23')"
   ]
  },
  {
   "attachments": {},
   "cell_type": "markdown",
   "metadata": {},
   "source": [
    "Clean column headers"
   ]
  },
  {
   "cell_type": "code",
   "execution_count": 3,
   "metadata": {},
   "outputs": [],
   "source": [
    "qardio_data.columns = qardio_data.columns.str.strip()\n",
    "qardio_data.columns = qardio_data.columns.str.lower()\n",
    "qardio_data.columns = qardio_data.columns.str.replace(' ', '_')\n",
    "qardio_data.columns = qardio_data.columns.str.replace('.', '')"
   ]
  },
  {
   "attachments": {},
   "cell_type": "markdown",
   "metadata": {},
   "source": [
    "Solve dtypes"
   ]
  },
  {
   "cell_type": "code",
   "execution_count": 4,
   "metadata": {},
   "outputs": [],
   "source": [
    "qardio_data.date_sent = pd.to_datetime(qardio_data.date_sent)\n",
    "for col in qardio_data.loc[:,'recipients':].select_dtypes('object').columns:\n",
    "    qardio_data[col] = qardio_data[col].str.replace('$', '')\n",
    "    qardio_data[col] = qardio_data[col].str.replace('%', '')\n",
    "    qardio_data[col] = qardio_data[col].str.replace(',', '')\n",
    "    qardio_data[col] = qardio_data[col].str.replace('#DIV/0!', '')\n",
    "    qardio_data[col] = pd.to_numeric(qardio_data[col])"
   ]
  },
  {
   "cell_type": "code",
   "execution_count": 5,
   "metadata": {},
   "outputs": [
    {
     "data": {
      "text/plain": [
       "campaign_name                     object\n",
       "year                               int64\n",
       "date_sent                 datetime64[ns]\n",
       "day                               object\n",
       "time_pst                          object\n",
       "subject_line                      object\n",
       "subscribers                       object\n",
       "country                           object\n",
       "recipients                         int64\n",
       "opens                              int64\n",
       "open_rate                        float64\n",
       "clicks                           float64\n",
       "click_rate                       float64\n",
       "true_click_rate                  float64\n",
       "click_per_unique_opens           float64\n",
       "unsubs                             int64\n",
       "%_unsubs                         float64\n",
       "%_unsubs_openers                 float64\n",
       "bounced                            int64\n",
       "sessions                         float64\n",
       "sess_per_unique_opens            float64\n",
       "ecr                              float64\n",
       "total_trans                      float64\n",
       "revenue                          float64\n",
       "aov                              float64\n",
       "qardioarm                        float64\n",
       "qardiobase_2                     float64\n",
       "qardiobase_x                     float64\n",
       "qardiotemp                       float64\n",
       "qardiospo2                       float64\n",
       "qa_case                          float64\n",
       "qa+qbx_bundle                    float64\n",
       "qa+qb_bundle                     float64\n",
       "qa+spo2                          float64\n",
       "qtemp+spo2                       float64\n",
       "ultimate_bundle                  float64\n",
       "qardio_core                      float64\n",
       "total_quantity                   float64\n",
       "dtype: object"
      ]
     },
     "execution_count": 5,
     "metadata": {},
     "output_type": "execute_result"
    }
   ],
   "source": [
    "qardio_data.dtypes"
   ]
  },
  {
   "attachments": {},
   "cell_type": "markdown",
   "metadata": {},
   "source": [
    "## Save data to SQL database"
   ]
  },
  {
   "cell_type": "code",
   "execution_count": 6,
   "metadata": {},
   "outputs": [
    {
     "name": "stdout",
     "output_type": "stream",
     "text": [
      "2023-06-22 12:56:22,382 INFO sqlalchemy.engine.Engine BEGIN (implicit)\n",
      "2023-06-22 12:56:22,405 INFO sqlalchemy.engine.Engine SELECT COUNT(*) FROM information_schema.tables WHERE table_schema = %(table_schema)s AND table_name = %(table_name)s\n",
      "2023-06-22 12:56:22,406 INFO sqlalchemy.engine.Engine [generated in 0.00133s] {'table_schema': 'qardio', 'table_name': 'email_data'}\n",
      "2023-06-22 12:56:22,413 INFO sqlalchemy.engine.Engine SELECT COUNT(*) FROM information_schema.tables WHERE table_schema = %(table_schema)s AND table_name = %(table_name)s\n",
      "2023-06-22 12:56:22,415 INFO sqlalchemy.engine.Engine [cached since 0.009928s ago] {'table_schema': 'qardio', 'table_name': 'email_data'}\n",
      "2023-06-22 12:56:22,417 INFO sqlalchemy.engine.Engine SHOW FULL TABLES FROM `qardio`\n",
      "2023-06-22 12:56:22,419 INFO sqlalchemy.engine.Engine [raw sql] {}\n",
      "2023-06-22 12:56:22,438 INFO sqlalchemy.engine.Engine SHOW CREATE TABLE `email_data`\n",
      "2023-06-22 12:56:22,440 INFO sqlalchemy.engine.Engine [raw sql] {}\n",
      "2023-06-22 12:56:22,448 INFO sqlalchemy.engine.Engine \n",
      "DROP TABLE email_data\n",
      "2023-06-22 12:56:22,450 INFO sqlalchemy.engine.Engine [no key 0.00191s] {}\n"
     ]
    }
   ],
   "source": [
    "qardio_data.to_sql(name='email_data',\n",
    "          con=conn,\n",
    "          if_exists='replace')"
   ]
  },
  {
   "cell_type": "code",
   "execution_count": null,
   "metadata": {},
   "outputs": [],
   "source": []
  }
 ],
 "metadata": {
  "kernelspec": {
   "display_name": "venv",
   "language": "python",
   "name": "python3"
  },
  "language_info": {
   "codemirror_mode": {
    "name": "ipython",
    "version": 3
   },
   "file_extension": ".py",
   "mimetype": "text/x-python",
   "name": "python",
   "nbconvert_exporter": "python",
   "pygments_lexer": "ipython3",
   "version": "3.11.1"
  },
  "orig_nbformat": 4
 },
 "nbformat": 4,
 "nbformat_minor": 2
}
