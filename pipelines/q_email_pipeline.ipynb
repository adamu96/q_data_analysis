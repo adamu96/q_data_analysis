{
 "cells": [
  {
   "attachments": {},
   "cell_type": "markdown",
   "metadata": {},
   "source": [
    "# Email Data Pipeline"
   ]
  },
  {
   "attachments": {},
   "cell_type": "markdown",
   "metadata": {},
   "source": [
    "This notebook extracts data from qardio google sheets, cleans the data, and loads it into the Qardio SQL database"
   ]
  },
  {
   "cell_type": "code",
   "execution_count": 21,
   "metadata": {},
   "outputs": [
    {
     "name": "stdout",
     "output_type": "stream",
     "text": [
      "2023-06-22 13:42:23,016 INFO sqlalchemy.engine.Engine SELECT DATABASE()\n",
      "2023-06-22 13:42:23,017 INFO sqlalchemy.engine.Engine [raw sql] {}\n",
      "2023-06-22 13:42:23,023 INFO sqlalchemy.engine.Engine SELECT @@sql_mode\n",
      "2023-06-22 13:42:23,026 INFO sqlalchemy.engine.Engine [raw sql] {}\n",
      "2023-06-22 13:42:23,032 INFO sqlalchemy.engine.Engine SELECT @@lower_case_table_names\n",
      "2023-06-22 13:42:23,033 INFO sqlalchemy.engine.Engine [raw sql] {}\n"
     ]
    }
   ],
   "source": [
    "from google_apis import gsheets_functions as gs\n",
    "import pandas as pd\n",
    "import sqlalchemy\n",
    "\n",
    "database = 'qardio'\n",
    "host = '127.0.0.1'\n",
    "user = 'root'\n",
    "password = 'Party100'\n",
    "url = f'mysql+mysqlconnector://{user}:{password}@{host}/{database}'\n",
    "engine = sqlalchemy.create_engine(url, echo=True)\n",
    "conn = engine.connect()\n",
    "\n",
    "pd.set_option('display.max_columns', 500)"
   ]
  },
  {
   "cell_type": "code",
   "execution_count": 22,
   "metadata": {},
   "outputs": [],
   "source": [
    "qardio_data = gs.gspread_read(wb='1dKiIp2ETyzfKHzR9fMeHrgf2N_UKcSa5uPWathJzgIw',\n",
    "                              ws='22_+_23')"
   ]
  },
  {
   "attachments": {},
   "cell_type": "markdown",
   "metadata": {},
   "source": [
    "Clean column headers"
   ]
  },
  {
   "cell_type": "code",
   "execution_count": 23,
   "metadata": {},
   "outputs": [],
   "source": [
    "qardio_data.columns = qardio_data.columns.str.strip()\n",
    "qardio_data.columns = qardio_data.columns.str.lower()\n",
    "qardio_data.columns = qardio_data.columns.str.replace(' ', '_')\n",
    "qardio_data.columns = qardio_data.columns.str.replace('.', '')\n",
    "qardio_data = qardio_data.drop(columns=['year', 'day', 'time_pst'])"
   ]
  },
  {
   "attachments": {},
   "cell_type": "markdown",
   "metadata": {},
   "source": [
    "Solve dtypes"
   ]
  },
  {
   "cell_type": "code",
   "execution_count": 24,
   "metadata": {},
   "outputs": [],
   "source": [
    "qardio_data.date_sent = pd.to_datetime(qardio_data.date_sent)\n",
    "for col in qardio_data.loc[:,'recipients':].select_dtypes('object').columns:\n",
    "    qardio_data[col] = qardio_data[col].str.replace('$', '')\n",
    "    qardio_data[col] = qardio_data[col].str.replace('%', '')\n",
    "    qardio_data[col] = qardio_data[col].str.replace(',', '')\n",
    "    qardio_data[col] = qardio_data[col].str.replace('#DIV/0!', '')\n",
    "    qardio_data[col] = pd.to_numeric(qardio_data[col])"
   ]
  },
  {
   "cell_type": "code",
   "execution_count": 25,
   "metadata": {},
   "outputs": [
    {
     "data": {
      "text/plain": [
       "campaign_name                     object\n",
       "date_sent                 datetime64[ns]\n",
       "subject_line                      object\n",
       "subscribers                       object\n",
       "country                           object\n",
       "recipients                         int64\n",
       "opens                              int64\n",
       "open_rate                        float64\n",
       "clicks                           float64\n",
       "click_rate                       float64\n",
       "true_click_rate                  float64\n",
       "click_per_unique_opens           float64\n",
       "unsubs                             int64\n",
       "%_unsubs                         float64\n",
       "%_unsubs_openers                 float64\n",
       "bounced                            int64\n",
       "sessions                         float64\n",
       "sess_per_unique_opens            float64\n",
       "ecr                              float64\n",
       "total_trans                      float64\n",
       "revenue                          float64\n",
       "aov                              float64\n",
       "qardioarm                        float64\n",
       "qardiobase_2                     float64\n",
       "qardiobase_x                     float64\n",
       "qardiotemp                       float64\n",
       "qardiospo2                       float64\n",
       "qa_case                          float64\n",
       "qa+qbx_bundle                    float64\n",
       "qa+qb_bundle                     float64\n",
       "qa+spo2                          float64\n",
       "qtemp+spo2                       float64\n",
       "ultimate_bundle                  float64\n",
       "qardio_core                      float64\n",
       "total_quantity                   float64\n",
       "dtype: object"
      ]
     },
     "execution_count": 25,
     "metadata": {},
     "output_type": "execute_result"
    }
   ],
   "source": [
    "qardio_data.dtypes"
   ]
  },
  {
   "attachments": {},
   "cell_type": "markdown",
   "metadata": {},
   "source": [
    "## Save data to SQL database"
   ]
  },
  {
   "cell_type": "code",
   "execution_count": 26,
   "metadata": {},
   "outputs": [
    {
     "name": "stdout",
     "output_type": "stream",
     "text": [
      "2023-06-22 13:42:25,389 INFO sqlalchemy.engine.Engine BEGIN (implicit)\n",
      "2023-06-22 13:42:25,409 INFO sqlalchemy.engine.Engine SELECT COUNT(*) FROM information_schema.tables WHERE table_schema = %(table_schema)s AND table_name = %(table_name)s\n",
      "2023-06-22 13:42:25,417 INFO sqlalchemy.engine.Engine [generated in 0.01139s] {'table_schema': 'qardio', 'table_name': 'email_data'}\n",
      "2023-06-22 13:42:25,431 INFO sqlalchemy.engine.Engine \n",
      "CREATE TABLE email_data (\n",
      "\t`index` BIGINT, \n",
      "\tcampaign_name TEXT, \n",
      "\tdate_sent DATETIME, \n",
      "\tsubject_line TEXT, \n",
      "\tsubscribers TEXT, \n",
      "\tcountry TEXT, \n",
      "\trecipients BIGINT, \n",
      "\topens BIGINT, \n",
      "\topen_rate FLOAT(53), \n",
      "\tclicks FLOAT(53), \n",
      "\tclick_rate FLOAT(53), \n",
      "\ttrue_click_rate FLOAT(53), \n",
      "\tclick_per_unique_opens FLOAT(53), \n",
      "\tunsubs BIGINT, \n",
      "\t`%_unsubs` FLOAT(53), \n",
      "\t`%_unsubs_openers` FLOAT(53), \n",
      "\tbounced BIGINT, \n",
      "\tsessions FLOAT(53), \n",
      "\tsess_per_unique_opens FLOAT(53), \n",
      "\tecr FLOAT(53), \n",
      "\ttotal_trans FLOAT(53), \n",
      "\trevenue FLOAT(53), \n",
      "\taov FLOAT(53), \n",
      "\tqardioarm FLOAT(53), \n",
      "\tqardiobase_2 FLOAT(53), \n",
      "\tqardiobase_x FLOAT(53), \n",
      "\tqardiotemp FLOAT(53), \n",
      "\tqardiospo2 FLOAT(53), \n",
      "\tqa_case FLOAT(53), \n",
      "\t`qa+qbx_bundle` FLOAT(53), \n",
      "\t`qa+qb_bundle` FLOAT(53), \n",
      "\t`qa+spo2` FLOAT(53), \n",
      "\t`qtemp+spo2` FLOAT(53), \n",
      "\tultimate_bundle FLOAT(53), \n",
      "\tqardio_core FLOAT(53), \n",
      "\ttotal_quantity FLOAT(53)\n",
      ")\n",
      "\n",
      "\n",
      "2023-06-22 13:42:25,432 INFO sqlalchemy.engine.Engine [no key 0.00106s] {}\n"
     ]
    },
    {
     "name": "stdout",
     "output_type": "stream",
     "text": [
      "2023-06-22 13:42:25,456 INFO sqlalchemy.engine.Engine CREATE INDEX ix_email_data_index ON email_data (`index`)\n",
      "2023-06-22 13:42:25,460 INFO sqlalchemy.engine.Engine [no key 0.00417s] {}\n",
      "2023-06-22 13:42:25,672 INFO sqlalchemy.engine.Engine INSERT INTO email_data (`index`, campaign_name, date_sent, subject_line, subscribers, country, recipients, opens, open_rate, clicks, click_rate, true_click_rate, click_per_unique_opens, unsubs, `%_unsubs`, `%_unsubs_openers`, bounced, sessions, sess_per_unique_opens, ecr, total_trans, revenue, aov, qardioarm, qardiobase_2, qardiobase_x, qardiotemp, qardiospo2, qa_case, `qa+qbx_bundle`, `qa+qb_bundle`, `qa+spo2`, `qtemp+spo2`, ultimate_bundle, qardio_core, total_quantity) VALUES (%(index)s, %(campaign_name)s, %(date_sent)s, %(subject_line)s, %(subscribers)s, %(country)s, %(recipients)s, %(opens)s, %(open_rate)s, %(clicks)s, %(click_rate)s, %(true_click_rate)s, %(click_per_unique_opens)s, %(unsubs)s, %(P_unsubs)s, %(P_unsubs_openers)s, %(bounced)s, %(sessions)s, %(sess_per_unique_opens)s, %(ecr)s, %(total_trans)s, %(revenue)s, %(aov)s, %(qardioarm)s, %(qardiobase_2)s, %(qardiobase_x)s, %(qardiotemp)s, %(qardiospo2)s, %(qa_case)s, %(qa+qbx_bundle)s, %(qa+qb_bundle)s, %(qa+spo2)s, %(qtemp+spo2)s, %(ultimate_bundle)s, %(qardio_core)s, %(total_quantity)s)\n",
      "2023-06-22 13:42:25,682 INFO sqlalchemy.engine.Engine [generated in 0.09741s] ({'index': 0, 'campaign_name': 'NY_22_E1_AU', 'date_sent': datetime.datetime(2022, 1, 4, 0, 0), 'subject_line': 'Start the new year with your full-body health in check 🏃\\u200d♀️', 'subscribers': 'NSL', 'country': 'AU', 'recipients': 12507, 'opens': 4142, 'open_rate': 33.12, 'clicks': None, 'click_rate': 0.29, 'true_click_rate': 0.1, 'click_per_unique_opens': 0.87, 'unsubs': 23, 'P_unsubs': 0.18, 'P_unsubs_openers': 0.56, 'bounced': 28, 'sessions': None, 'sess_per_unique_opens': 0.58, 'ecr': 0.0, 'total_trans': None, 'revenue': None, 'aov': None, 'qardioarm': None, 'qardiobase_2': None, 'qardiobase_x': None, 'qardiotemp': None, 'qardiospo2': None, 'qa_case': None, 'qa+qbx_bundle': None, 'qa+qb_bundle': None, 'qa+spo2': None, 'qtemp+spo2': None, 'ultimate_bundle': None, 'qardio_core': None, 'total_quantity': None}, {'index': 1, 'campaign_name': 'NY_22_E1_UK', 'date_sent': datetime.datetime(2022, 1, 4, 0, 0), 'subject_line': 'Start the new year with your full-body health in check 🏃\\u200d♀️', 'subscribers': 'NSL', 'country': 'UK', 'recipients': 36416, 'opens': 11734, 'open_rate': 32.22, 'clicks': None, 'click_rate': 0.23, 'true_click_rate': 0.09, 'click_per_unique_opens': 0.72, 'unsubs': 51, 'P_unsubs': 0.14, 'P_unsubs_openers': 0.43, 'bounced': 83, 'sessions': None, 'sess_per_unique_opens': 0.6, 'ecr': 1.43, 'total_trans': None, 'revenue': 121.63, 'aov': 121.63, 'qardioarm': None, 'qardiobase_2': None, 'qardiobase_x': None, 'qardiotemp': None, 'qardiospo2': None, 'qa_case': None, 'qa+qbx_bundle': None, 'qa+qb_bundle': None, 'qa+spo2': None, 'qtemp+spo2': None, 'ultimate_bundle': None, 'qardio_core': None, 'total_quantity': None}, {'index': 2, 'campaign_name': 'NY_22_E1_ES', 'date_sent': datetime.datetime(2022, 1, 4, 0, 0), 'subject_line': 'Start the new year with your full-body health in check 🏃\\u200d♀️', 'subscribers': 'NSL', 'country': 'ES', 'recipients': 8021, 'opens': 2917, 'open_rate': 36.37, 'clicks': None, 'click_rate': 0.11, 'true_click_rate': 0.05, 'click_per_unique_opens': 0.31, 'unsubs': 5, 'P_unsubs': 0.06, 'P_unsubs_openers': 0.17, 'bounced': 36, 'sessions': None, 'sess_per_unique_opens': 0.24, 'ecr': 0.0, 'total_trans': None, 'revenue': None, 'aov': None, 'qardioarm': None, 'qardiobase_2': None, 'qardiobase_x': None, 'qardiotemp': None, 'qardiospo2': None, 'qa_case': None, 'qa+qbx_bundle': None, 'qa+qb_bundle': None, 'qa+spo2': None, 'qtemp+spo2': None, 'ultimate_bundle': None, 'qardio_core': None, 'total_quantity': None}, {'index': 3, 'campaign_name': 'NY_22_E1_IT', 'date_sent': datetime.datetime(2022, 1, 4, 0, 0), 'subject_line': 'Start the new year with your full-body health in check 🏃\\u200d♀️', 'subscribers': 'NSL', 'country': 'IT', 'recipients': 15755, 'opens': 5186, 'open_rate': 32.92, 'clicks': None, 'click_rate': 0.15, 'true_click_rate': 0.03, 'click_per_unique_opens': 0.44, 'unsubs': 18, 'P_unsubs': 0.11, 'P_unsubs_openers': 0.35, 'bounced': 153, 'sessions': None, 'sess_per_unique_opens': 0.21, 'ecr': 0.0, 'total_trans': None, 'revenue': None, 'aov': None, 'qardioarm': None, 'qardiobase_2': None, 'qardiobase_x': None, 'qardiotemp': None, 'qardiospo2': None, 'qa_case': None, 'qa+qbx_bundle': None, 'qa+qb_bundle': None, 'qa+spo2': None, 'qtemp+spo2': None, 'ultimate_bundle': None, 'qardio_core': None, 'total_quantity': None}, {'index': 4, 'campaign_name': 'NY_22_E1_NL', 'date_sent': datetime.datetime(2022, 1, 4, 0, 0), 'subject_line': 'Start the new year with your full-body health in check 🏃\\u200d♀️', 'subscribers': 'NSL', 'country': 'NL', 'recipients': 3544, 'opens': 1423, 'open_rate': 40.15, 'clicks': None, 'click_rate': 0.42, 'true_click_rate': 0.14, 'click_per_unique_opens': 1.05, 'unsubs': 10, 'P_unsubs': 0.28, 'P_unsubs_openers': 0.7, 'bounced': 10, 'sessions': None, 'sess_per_unique_opens': 0.42, 'ecr': 0.0, 'total_trans': None, 'revenue': None, 'aov': None, 'qardioarm': None, 'qardiobase_2': None, 'qardiobase_x': None, 'qardiotemp': None, 'qardiospo2': None, 'qa_case': None, 'qa+qbx_bundle': None, 'qa+qb_bundle': None, 'qa+spo2': None, 'qtemp+spo2': None, 'ultimate_bundle': None, 'qardio_core': None, 'total_quantity': None}, {'index': 5, 'campaign_name': 'NY_22_E1_FR', 'date_sent': datetime.datetime(2022, 1, 4, 0, 0), 'subject_line': 'Start the new year with your full-body health in check 🏃\\u200d♀️', 'subscribers': 'NSL', 'country': 'FR', 'recipients': 12087, 'opens': 3254, 'open_rate': 26.92, 'clicks': None, 'click_rate': 0.14, 'true_click_rate': 0.07, 'click_per_unique_opens': 0.52, 'unsubs': 9, 'P_unsubs': 0.07, 'P_unsubs_openers': 0.28, 'bounced': 92, 'sessions': None, 'sess_per_unique_opens': 0.28, 'ecr': 0.0, 'total_trans': None, 'revenue': None, 'aov': None, 'qardioarm': None, 'qardiobase_2': None, 'qardiobase_x': None, 'qardiotemp': None, 'qardiospo2': None, 'qa_case': None, 'qa+qbx_bundle': None, 'qa+qb_bundle': None, 'qa+spo2': None, 'qtemp+spo2': None, 'ultimate_bundle': None, 'qardio_core': None, 'total_quantity': None}, {'index': 6, 'campaign_name': 'NY_22_E1_GR', 'date_sent': datetime.datetime(2022, 1, 4, 0, 0), 'subject_line': 'Start the new year with your full-body health in check 🏃\\u200d♀️', 'subscribers': 'NSL', 'country': 'GR', 'recipients': 7543, 'opens': 2154, 'open_rate': 28.56, 'clicks': None, 'click_rate': 0.28, 'true_click_rate': 0.19, 'click_per_unique_opens': 0.97, 'unsubs': 7, 'P_unsubs': 0.09, 'P_unsubs_openers': 0.32, 'bounced': 136, 'sessions': None, 'sess_per_unique_opens': 0.74, 'ecr': 6.25, 'total_trans': None, 'revenue': 147.11, 'aov': 147.11, 'qardioarm': None, 'qardiobase_2': None, 'qardiobase_x': None, 'qardiotemp': None, 'qardiospo2': None, 'qa_case': None, 'qa+qbx_bundle': None, 'qa+qb_bundle': None, 'qa+spo2': None, 'qtemp+spo2': None, 'ultimate_bundle': None, 'qardio_core': None, 'total_quantity': None}, {'index': 7, 'campaign_name': 'NY_22_E1_Privy_UK', 'date_sent': datetime.datetime(2022, 1, 4, 0, 0), 'subject_line': 'Start the new year with your full-body health in check 🏃\\u200d♀️', 'subscribers': 'Shopify', 'country': 'UK', 'recipients': 2422, 'opens': 936, 'open_rate': 38.65, 'clicks': None, 'click_rate': 1.36, 'true_click_rate': -1.82, 'click_per_unique_opens': 3.53, 'unsubs': 77, 'P_unsubs': 3.18, 'P_unsubs_openers': 8.23, 'bounced': 3, 'sessions': None, 'sess_per_unique_opens': 1.82, 'ecr': 5.88, 'total_trans': None, 'revenue': 121.63, 'aov': 121.63, 'qardioarm': None, 'qardiobase_2': None, 'qardiobase_x': None, 'qardiotemp': None, 'qardiospo2': None, 'qa_case': None, 'qa+qbx_bundle': None, 'qa+qb_bundle': None, 'qa+spo2': None, 'qtemp+spo2': None, 'ultimate_bundle': None, 'qardio_core': None, 'total_quantity': None}  ... displaying 10 of 1548 total bound parameter sets ...  {'index': 1546, 'campaign_name': 'SummerSale_23_E1_ShopifyEU', 'date_sent': datetime.datetime(2023, 6, 19, 0, 0), 'subject_line': 'Up to 25% OFF ☀️', 'subscribers': 'Shopify', 'country': 'EU', 'recipients': 0, 'opens': 0, 'open_rate': None, 'clicks': None, 'click_rate': None, 'true_click_rate': None, 'click_per_unique_opens': None, 'unsubs': 0, 'P_unsubs': None, 'P_unsubs_openers': None, 'bounced': 0, 'sessions': None, 'sess_per_unique_opens': None, 'ecr': None, 'total_trans': None, 'revenue': 0.0, 'aov': None, 'qardioarm': None, 'qardiobase_2': None, 'qardiobase_x': None, 'qardiotemp': None, 'qardiospo2': None, 'qa_case': None, 'qa+qbx_bundle': None, 'qa+qb_bundle': None, 'qa+spo2': None, 'qtemp+spo2': None, 'ultimate_bundle': None, 'qardio_core': None, 'total_quantity': None}, {'index': 1547, 'campaign_name': 'SummerSale_23_E1_ShopifyEU_IT', 'date_sent': datetime.datetime(2023, 6, 19, 0, 0), 'subject_line': 'Ultimo giorno rimasto ⌛', 'subscribers': 'Shopify', 'country': 'IT', 'recipients': 0, 'opens': 0, 'open_rate': None, 'clicks': None, 'click_rate': None, 'true_click_rate': None, 'click_per_unique_opens': None, 'unsubs': 0, 'P_unsubs': None, 'P_unsubs_openers': None, 'bounced': 0, 'sessions': None, 'sess_per_unique_opens': None, 'ecr': None, 'total_trans': None, 'revenue': 0.0, 'aov': None, 'qardioarm': None, 'qardiobase_2': None, 'qardiobase_x': None, 'qardiotemp': None, 'qardiospo2': None, 'qa_case': None, 'qa+qbx_bundle': None, 'qa+qb_bundle': None, 'qa+spo2': None, 'qtemp+spo2': None, 'ultimate_bundle': None, 'qardio_core': None, 'total_quantity': None})\n",
      "2023-06-22 13:42:25,884 INFO sqlalchemy.engine.Engine COMMIT\n"
     ]
    },
    {
     "data": {
      "text/plain": [
       "1548"
      ]
     },
     "execution_count": 26,
     "metadata": {},
     "output_type": "execute_result"
    }
   ],
   "source": [
    "qardio_data.to_sql(name='email_data',\n",
    "          con=conn,\n",
    "          if_exists='replace',\n",
    "          index=False)"
   ]
  },
  {
   "cell_type": "code",
   "execution_count": null,
   "metadata": {},
   "outputs": [],
   "source": []
  }
 ],
 "metadata": {
  "kernelspec": {
   "display_name": "venv",
   "language": "python",
   "name": "python3"
  },
  "language_info": {
   "codemirror_mode": {
    "name": "ipython",
    "version": 3
   },
   "file_extension": ".py",
   "mimetype": "text/x-python",
   "name": "python",
   "nbconvert_exporter": "python",
   "pygments_lexer": "ipython3",
   "version": "3.11.1"
  },
  "orig_nbformat": 4
 },
 "nbformat": 4,
 "nbformat_minor": 2
}
