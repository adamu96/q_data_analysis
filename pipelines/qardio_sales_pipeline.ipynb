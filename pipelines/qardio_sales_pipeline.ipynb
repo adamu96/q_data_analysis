{
 "cells": [
  {
   "attachments": {},
   "cell_type": "markdown",
   "metadata": {},
   "source": [
    "# Email Data Pipeline"
   ]
  },
  {
   "attachments": {},
   "cell_type": "markdown",
   "metadata": {},
   "source": [
    "This notebook extracts data from qardio google sheets, cleans the data, and loads it into the Qardio SQL database"
   ]
  },
  {
   "cell_type": "code",
   "execution_count": 3,
   "metadata": {},
   "outputs": [
    {
     "name": "stdout",
     "output_type": "stream",
     "text": [
      "2023-06-21 19:50:38,496 INFO sqlalchemy.engine.Engine SELECT DATABASE()\n",
      "2023-06-21 19:50:38,498 INFO sqlalchemy.engine.Engine [raw sql] {}\n",
      "2023-06-21 19:50:38,503 INFO sqlalchemy.engine.Engine SELECT @@sql_mode\n",
      "2023-06-21 19:50:38,505 INFO sqlalchemy.engine.Engine [raw sql] {}\n",
      "2023-06-21 19:50:38,507 INFO sqlalchemy.engine.Engine SELECT @@lower_case_table_names\n",
      "2023-06-21 19:50:38,510 INFO sqlalchemy.engine.Engine [raw sql] {}\n"
     ]
    }
   ],
   "source": [
    "from google_apis import gsheets_functions as gs\n",
    "import pandas as pd\n",
    "import sqlalchemy\n",
    "\n",
    "database = 'qardio'\n",
    "host = '127.0.0.1'\n",
    "user = 'root'\n",
    "password = 'Party100'\n",
    "url = f'mysql+mysqlconnector://{user}:{password}@{host}/{database}'\n",
    "engine = sqlalchemy.create_engine(url, echo=True)\n",
    "conn = engine.connect()"
   ]
  },
  {
   "cell_type": "code",
   "execution_count": 5,
   "metadata": {},
   "outputs": [],
   "source": [
    "sales_data = gs.gspread_read(wb='1dKiIp2ETyzfKHzR9fMeHrgf2N_UKcSa5uPWathJzgIw',\n",
    "                              ws='Sales')"
   ]
  },
  {
   "cell_type": "code",
   "execution_count": 7,
   "metadata": {},
   "outputs": [],
   "source": [
    "sales_data.columns = sales_data.columns.str.lower()\n",
    "sales_data.columns = sales_data.columns.str.strip()\n",
    "sales_data.columns = sales_data.columns.str.replace(' ', '_')"
   ]
  },
  {
   "cell_type": "code",
   "execution_count": 8,
   "metadata": {},
   "outputs": [],
   "source": [
    "sales_data = sales_data.set_index('sale_id')\n",
    "sales_data.start_date = pd.to_datetime(sales_data.start_date)\n",
    "sales_data.end_date = pd.to_datetime(sales_data.end_date)"
   ]
  },
  {
   "attachments": {},
   "cell_type": "markdown",
   "metadata": {},
   "source": [
    "## Save data to SQL database"
   ]
  },
  {
   "cell_type": "code",
   "execution_count": 9,
   "metadata": {},
   "outputs": [
    {
     "name": "stdout",
     "output_type": "stream",
     "text": [
      "2023-06-21 19:53:54,156 INFO sqlalchemy.engine.Engine BEGIN (implicit)\n",
      "2023-06-21 19:53:54,168 INFO sqlalchemy.engine.Engine SELECT COUNT(*) FROM information_schema.tables WHERE table_schema = %(table_schema)s AND table_name = %(table_name)s\n",
      "2023-06-21 19:53:54,182 INFO sqlalchemy.engine.Engine [generated in 0.01437s] {'table_schema': 'qardio', 'table_name': 'sales'}\n",
      "2023-06-21 19:53:54,202 INFO sqlalchemy.engine.Engine \n",
      "CREATE TABLE sales (\n",
      "\tsale_id BIGINT, \n",
      "\tsale_amount BIGINT, \n",
      "\tstart_date DATETIME, \n",
      "\tend_date DATETIME, \n",
      "\t`duration_(days)` BIGINT\n",
      ")\n",
      "\n",
      "\n",
      "2023-06-21 19:53:54,203 INFO sqlalchemy.engine.Engine [no key 0.00155s] {}\n",
      "2023-06-21 19:53:54,224 INFO sqlalchemy.engine.Engine CREATE INDEX ix_sales_sale_id ON sales (sale_id)\n",
      "2023-06-21 19:53:54,225 INFO sqlalchemy.engine.Engine [no key 0.00148s] {}\n",
      "2023-06-21 19:53:54,249 INFO sqlalchemy.engine.Engine INSERT INTO sales (sale_id, sale_amount, start_date, end_date, `duration_(days)`) VALUES (%(sale_id)s, %(sale_amount)s, %(start_date)s, %(end_date)s, %(duration_AdaysZ)s)\n",
      "2023-06-21 19:53:54,249 INFO sqlalchemy.engine.Engine [generated in 0.00155s] ({'sale_id': 1, 'sale_amount': 25, 'start_date': datetime.datetime(2022, 1, 4, 0, 0), 'end_date': datetime.datetime(2022, 1, 18, 0, 0), 'duration_AdaysZ': 14}, {'sale_id': 2, 'sale_amount': 15, 'start_date': datetime.datetime(2022, 3, 14, 0, 0), 'end_date': datetime.datetime(2022, 4, 4, 0, 0), 'duration_AdaysZ': 21}, {'sale_id': 3, 'sale_amount': 15, 'start_date': datetime.datetime(2022, 4, 29, 0, 0), 'end_date': datetime.datetime(2022, 5, 9, 0, 0), 'duration_AdaysZ': 10}, {'sale_id': 4, 'sale_amount': 15, 'start_date': datetime.datetime(2022, 5, 15, 0, 0), 'end_date': datetime.datetime(2022, 5, 23, 0, 0), 'duration_AdaysZ': 8}, {'sale_id': 5, 'sale_amount': 20, 'start_date': datetime.datetime(2022, 6, 26, 0, 0), 'end_date': datetime.datetime(2022, 6, 30, 0, 0), 'duration_AdaysZ': 4}, {'sale_id': 6, 'sale_amount': 20, 'start_date': datetime.datetime(2022, 7, 27, 0, 0), 'end_date': datetime.datetime(2022, 8, 7, 0, 0), 'duration_AdaysZ': 11}, {'sale_id': 7, 'sale_amount': 25, 'start_date': datetime.datetime(2022, 8, 28, 0, 0), 'end_date': datetime.datetime(2022, 9, 5, 0, 0), 'duration_AdaysZ': 8}, {'sale_id': 8, 'sale_amount': 20, 'start_date': datetime.datetime(2022, 9, 25, 0, 0), 'end_date': datetime.datetime(2022, 10, 2, 0, 0), 'duration_AdaysZ': 7}  ... displaying 10 of 16 total bound parameter sets ...  {'sale_id': 15, 'sale_amount': 15, 'start_date': datetime.datetime(2023, 5, 17, 0, 0), 'end_date': datetime.datetime(2023, 5, 22, 0, 0), 'duration_AdaysZ': 5}, {'sale_id': 16, 'sale_amount': 25, 'start_date': datetime.datetime(2023, 6, 18, 0, 0), 'end_date': datetime.datetime(2023, 6, 25, 0, 0), 'duration_AdaysZ': 7})\n",
      "2023-06-21 19:53:54,253 INFO sqlalchemy.engine.Engine COMMIT\n"
     ]
    },
    {
     "data": {
      "text/plain": [
       "16"
      ]
     },
     "execution_count": 9,
     "metadata": {},
     "output_type": "execute_result"
    }
   ],
   "source": [
    "sales_data.to_sql(name='sales',\n",
    "          con=conn,\n",
    "          if_exists='replace')"
   ]
  },
  {
   "cell_type": "code",
   "execution_count": null,
   "metadata": {},
   "outputs": [],
   "source": []
  }
 ],
 "metadata": {
  "kernelspec": {
   "display_name": "venv",
   "language": "python",
   "name": "python3"
  },
  "language_info": {
   "codemirror_mode": {
    "name": "ipython",
    "version": 3
   },
   "file_extension": ".py",
   "mimetype": "text/x-python",
   "name": "python",
   "nbconvert_exporter": "python",
   "pygments_lexer": "ipython3",
   "version": "3.11.1"
  },
  "orig_nbformat": 4
 },
 "nbformat": 4,
 "nbformat_minor": 2
}
